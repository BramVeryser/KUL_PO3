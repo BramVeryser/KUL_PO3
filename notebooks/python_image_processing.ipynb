{
 "cells": [
  {
   "cell_type": "markdown",
   "metadata": {},
   "source": [
    "# Python and image processing guidelines\n",
    "\n",
    "\n",
    "The main purpose of this Jupyter notebook is to help you understand the Python basics and enable you to Google whatever you need about Python and the necessary packages to finish this project. The first part of the notebook goes through a part of the Python syntax that I think you should know to successfully finish the project. The second part is about Numpy, Pillow and Matplotlib, which are Python libraries (installed in your virtual environment if you followed the steps in the `README.md` file) crucial for working with matrices, images and plotting."
   ]
  },
  {
   "cell_type": "markdown",
   "metadata": {},
   "source": [
    "## Python basics\n",
    "\n",
    "The first part of this jupyter notebook goes through some of the basic of Python. Always keep in mind that you can find much better structured and much more elaborate learning materials online."
   ]
  },
  {
   "cell_type": "markdown",
   "metadata": {},
   "source": [
    "### Variables"
   ]
  },
  {
   "cell_type": "code",
   "execution_count": null,
   "metadata": {},
   "outputs": [],
   "source": [
    "# Integer and Float variables\n",
    "a = 6\n",
    "b = 3.5\n",
    "print(a + b)\n",
    "# String variables\n",
    "a = \"P\"\n",
    "b = \"O3\"\n",
    "print(a+b)\n",
    "# Special type of strings are f-strings. To create an f-string, add f before the quotes\n",
    "a = 5\n",
    "b = f\"{a}_4\"\n",
    "print(b)"
   ]
  },
  {
   "cell_type": "markdown",
   "metadata": {},
   "source": [
    "### Lists\n",
    "The basic operations on lists are as follows:"
   ]
  },
  {
   "cell_type": "code",
   "execution_count": null,
   "metadata": {},
   "outputs": [],
   "source": [
    "# Defining lists\n",
    "list_a = [1,2,3,4]\n",
    "print(list_a)\n",
    "list_b = [5,6]\n",
    "print(list_b)\n",
    "# Concatenating lists\n",
    "list_ab = list_a + list_b\n",
    "print(list_ab)\n",
    "# Appending elements to lists\n",
    "list_ab.append(7)\n",
    "print(list_ab)\n",
    "# Finding index of an element in a Python list\n",
    "print(list_ab.index(3))"
   ]
  },
  {
   "cell_type": "markdown",
   "metadata": {},
   "source": [
    "Also, we can create 2 dimensional lists and we can index them as we want"
   ]
  },
  {
   "cell_type": "code",
   "execution_count": null,
   "metadata": {},
   "outputs": [],
   "source": [
    "list_a = [[1,2],[3,4]]\n",
    "print(list_a)\n",
    "# We can get the first element as\n",
    "print(list_a[0])\n",
    "# We can get the first element, of the first element as\n",
    "print(list_a[0][0])\n",
    "# We can get the last element, of the first element as\n",
    "print(list_a[-1][0])\n",
    "# If we have a list with bigger length\n",
    "list_b = [1,2,3,4,5,6,7]\n",
    "# We can get the first 3 elements as\n",
    "print(list_b[:3])\n",
    "# We can get the last 3 elements as\n",
    "print(list_b[-3:])\n",
    "# We can get all elements starting from the third element until the second to last element as\n",
    "print(list_b[2:-1])"
   ]
  },
  {
   "cell_type": "markdown",
   "metadata": {},
   "source": [
    "### Dictionaries\n",
    "\n",
    "Similar to HashMap in Java"
   ]
  },
  {
   "cell_type": "code",
   "execution_count": null,
   "metadata": {},
   "outputs": [],
   "source": [
    "dict_a = {\"a\": 5, \"b\": 3}\n",
    "# We can obtain the value of the key \"a\" as\n",
    "print(dict_a[\"a\"])\n",
    "# We can also create dictionaries that store lists as keys (or any object)\n",
    "dict_a = {\"a\": [1,2,3,4], \"b\": [3,4,5,6,7]}\n",
    "# We can obtain the value of the key \"b\" and all elements between the first and the last element as\n",
    "print(dict_a[\"b\"][1:-1])"
   ]
  },
  {
   "cell_type": "markdown",
   "metadata": {},
   "source": [
    "### If statements\n",
    "\n",
    "The most basic form of an if-else statement is"
   ]
  },
  {
   "cell_type": "code",
   "execution_count": null,
   "metadata": {},
   "outputs": [],
   "source": [
    "m = 5\n",
    "n = 3\n",
    "if m > n:\n",
    "    print(\"m is bigger than n\")\n",
    "else:\n",
    "    print(\"m is not bigger than n\")"
   ]
  },
  {
   "cell_type": "markdown",
   "metadata": {},
   "source": [
    "You can stack these if-else statements as follows"
   ]
  },
  {
   "cell_type": "code",
   "execution_count": null,
   "metadata": {},
   "outputs": [],
   "source": [
    "m = 5\n",
    "n = 5\n",
    "if m > n:\n",
    "    print(\"m is bigger than n\")\n",
    "elif m < n:\n",
    "    print(\"m is smaller than n\")\n",
    "elif m == n:\n",
    "    print(\"m is equal to n\")\n",
    "else:\n",
    "    print(\"None of the above :(\")"
   ]
  },
  {
   "cell_type": "markdown",
   "metadata": {},
   "source": [
    "You can also have a fancy way of using if-else statements"
   ]
  },
  {
   "cell_type": "code",
   "execution_count": null,
   "metadata": {},
   "outputs": [],
   "source": [
    "m = 5\n",
    "n = 5\n",
    "A = 3 if m == n else 5\n",
    "print(A)\n",
    "m = 5\n",
    "n = 3\n",
    "A = 3 if m == n else 5\n",
    "print(A)"
   ]
  },
  {
   "cell_type": "markdown",
   "metadata": {},
   "source": [
    "### For loops\n",
    "\n",
    "For loops in Python are done in the following way"
   ]
  },
  {
   "cell_type": "code",
   "execution_count": null,
   "metadata": {},
   "outputs": [],
   "source": [
    "A = [1, 2, 3, 4, 5]\n",
    "for a in A:\n",
    "    print(a)"
   ]
  },
  {
   "cell_type": "markdown",
   "metadata": {},
   "source": [
    "If you also want to get the index of the element"
   ]
  },
  {
   "cell_type": "code",
   "execution_count": null,
   "metadata": {},
   "outputs": [],
   "source": [
    "for index, a in enumerate(A):\n",
    "    print(f\"At index {index} is {a}\")"
   ]
  },
  {
   "cell_type": "markdown",
   "metadata": {},
   "source": [
    "We can also iterate over the elements of a dictionary"
   ]
  },
  {
   "cell_type": "code",
   "execution_count": null,
   "metadata": {},
   "outputs": [],
   "source": [
    "A = {\"a\": 1, \"b\":2, \"c\": 3}\n",
    "# Iterating over both the keys and values\n",
    "for key, val in A.items():\n",
    "    print(key, val)\n",
    "# Iterating over the keys\n",
    "for key in A.keys():\n",
    "    print(key, A[key])\n",
    "# Iterating over the values (You should not need this as you can obtain the values by indexing the keys)\n",
    "for val in A.values():\n",
    "    print(val)"
   ]
  },
  {
   "cell_type": "markdown",
   "metadata": {},
   "source": [
    "Finnaly, there are cases where a substitute for a for-loop is a list-comprehension"
   ]
  },
  {
   "cell_type": "code",
   "execution_count": null,
   "metadata": {},
   "outputs": [],
   "source": [
    "A = [1, 2, 3, 4, 5]\n",
    "B = []\n",
    "for a in A:\n",
    "    c = a * 3\n",
    "    B.append(c)\n",
    "print(B)\n",
    "\n",
    "# The upper code can be changed as\n",
    "B = [a * 3 for a in A]\n",
    "print(B)"
   ]
  },
  {
   "cell_type": "markdown",
   "metadata": {},
   "source": [
    "Also, using the fancy if-else statements you can do something like: Create a list `B` from list `A` where if the `a` element is bigger than `2` multiply it with `3` otherwise multiply it with `5`."
   ]
  },
  {
   "cell_type": "code",
   "execution_count": null,
   "metadata": {},
   "outputs": [],
   "source": [
    "B = [a * 3 if a > 2 else a * 5 for a in A]\n",
    "print(B)"
   ]
  },
  {
   "cell_type": "markdown",
   "metadata": {},
   "source": [
    "### While statements\n",
    "\n",
    "The simplest form of a while loop is"
   ]
  },
  {
   "cell_type": "code",
   "execution_count": null,
   "metadata": {},
   "outputs": [],
   "source": [
    "a = 5\n",
    "while a < 10:\n",
    "    a += 1\n",
    "    print(a)"
   ]
  },
  {
   "cell_type": "markdown",
   "metadata": {},
   "source": [
    "An interesting use-case of while-loops"
   ]
  },
  {
   "cell_type": "code",
   "execution_count": null,
   "metadata": {},
   "outputs": [],
   "source": [
    "A = [1, 2, 3, 4, 5]\n",
    "while A:\n",
    "    print(A.pop())"
   ]
  },
  {
   "cell_type": "markdown",
   "metadata": {},
   "source": [
    "A fancy while loop"
   ]
  },
  {
   "cell_type": "code",
   "execution_count": null,
   "metadata": {},
   "outputs": [],
   "source": [
    "A = [1, 2, 3, 4, 5]\n",
    "while A:\n",
    "    print(A.pop())\n",
    "else:\n",
    "    print(\"No more elements in A :(\")"
   ]
  },
  {
   "cell_type": "markdown",
   "metadata": {},
   "source": [
    "### Terminating loops in Python\n",
    "\n",
    "All Python loops can be easily terminated by including a `break` statement"
   ]
  },
  {
   "cell_type": "code",
   "execution_count": null,
   "metadata": {},
   "outputs": [],
   "source": [
    "for i in range(10):\n",
    "    if i > 5:\n",
    "        break\n",
    "    print(i)\n",
    "\n",
    "i = 0\n",
    "while i < 10:\n",
    "    i += 1\n",
    "    if i > 5:\n",
    "        break\n",
    "    print(i)"
   ]
  },
  {
   "cell_type": "markdown",
   "metadata": {},
   "source": [
    "### Functions in Python\n",
    "\n",
    "Functions in Python can be defined by using the special Python keyword `def`"
   ]
  },
  {
   "cell_type": "code",
   "execution_count": null,
   "metadata": {},
   "outputs": [],
   "source": [
    "from typing import List\n",
    "\n",
    "def num_in_list(A: List[int], num: int):\n",
    "    for a in A:\n",
    "        if num in A:\n",
    "            print(\"It is in the list\")\n",
    "            break\n",
    "A = [1, 5, 7, 9]\n",
    "num = 5\n",
    "num_in_list(A, num)"
   ]
  },
  {
   "cell_type": "markdown",
   "metadata": {},
   "source": [
    "## Object oriented programming in Python\n",
    "\n",
    "Python is an object oriented language meaning that everything is an object. You can create classes, instanciate objects from them, create methods, do composition, inheritance, polymorphism etc."
   ]
  },
  {
   "cell_type": "code",
   "execution_count": null,
   "metadata": {},
   "outputs": [],
   "source": [
    "# We can create a class that defined a person\n",
    "class Person:\n",
    "    \n",
    "    # This is the object constructor - it will be called then the object is instantiated\n",
    "    def __init__(self, first_name: str, last_name: str, age: int):\n",
    "        self.first_name = first_name\n",
    "        self.last_name = last_name\n",
    "        self.age = age\n",
    "    \n",
    "    # We can have a method so that we can increase the years\n",
    "    def increase_age(self):\n",
    "        self.age += 1\n",
    "    \n",
    "    # We can have a method to rename the person\n",
    "    def rename(self, new_fn: str, new_ln: str):\n",
    "        self.first_name = new_fn\n",
    "        self.last_name = new_ln\n",
    "    \n",
    "    # We can overload the special method __repr__ so that when we print the person, Python will now what to do\n",
    "    # This method should return a string\n",
    "    def __repr__(self):\n",
    "        return f\"{self.first_name} {self.last_name} of age {self.age}\"\n",
    "\n",
    "# We can create the person\n",
    "person = Person(\"Gorjan\", \"Radevski\", 26)\n",
    "# We can print the person\n",
    "print(person)\n",
    "# We can increase his age\n",
    "person.increase_age()\n",
    "print(person)\n",
    "# We can rename the person\n",
    "person.rename(\"Dusan\", \"Grujicic\")\n",
    "print(person)"
   ]
  },
  {
   "cell_type": "markdown",
   "metadata": {},
   "source": [
    "## Linear algebra in Python\n",
    "\n",
    "In Python, the most convinient way to work with multi dimensional arrays is with Numpy. Therefore the first step would be to import the `numpy` module into the local scope."
   ]
  },
  {
   "cell_type": "code",
   "execution_count": null,
   "metadata": {},
   "outputs": [],
   "source": [
    "import numpy as np"
   ]
  },
  {
   "cell_type": "markdown",
   "metadata": {},
   "source": [
    "Then, let us assume that we want to create a 2D array (a matrix). We can do that in the following way:"
   ]
  },
  {
   "cell_type": "code",
   "execution_count": null,
   "metadata": {},
   "outputs": [],
   "source": [
    "A = np.array([[1, 2, 3],[4, 5, 6], [7, 8, 9]])\n",
    "print(A)\n",
    "# We can also print its shape\n",
    "print(A.shape)"
   ]
  },
  {
   "cell_type": "markdown",
   "metadata": {},
   "source": [
    "Some usefull Numpy commands that you should know of the top of your head are:\n",
    "\n",
    "- `numpy.zeros(shape=())` creates an array of zeros with the specified shape.\n",
    "- `numpy.ones(shape=())` creates an array of ones with the specified shape.\n",
    "- `numpy.eye(shape=())` creates an identity matrix with the specified shape.\n",
    "- `numpy.random.rand(shape=())` creates an array of random numbers sampled from a uniform distribution.\n",
    "- `numpy.ndarray.astype(dtype)` converts the data type of the numpy array to the specified data type."
   ]
  },
  {
   "cell_type": "code",
   "execution_count": null,
   "metadata": {},
   "outputs": [],
   "source": [
    "A = np.zeros((3, 3))\n",
    "print(\"A is an array of zeros\")\n",
    "print(A)\n",
    "A = np.ones((3, 3))\n",
    "print(\"A is an array of ones\")\n",
    "print(A)\n",
    "A = np.eye(3, 3)\n",
    "print(\"A is an identity matrix with shape 3x3\")\n",
    "print(A)\n",
    "A = np.random.rand(3, 3)\n",
    "print(\"A is a random matrix\")\n",
    "print(A)\n",
    "A_int = np.array([1, 2, 3], dtype=np.int32)\n",
    "A_float = A.astype(np.float32)\n",
    "print(f\"A_int has data type {A_int.dtype} while A_float has {A_float.dtype}\")"
   ]
  },
  {
   "cell_type": "markdown",
   "metadata": {},
   "source": [
    "### Python lists vs numpy ndarrays\n",
    "\n",
    "Also, `numpy` supports creating `numpy.ndarrays` from a Python `list`. Therefore, there is a huge difference between a Python `list` and a Numpy `ndarray`. A tip would be to always stick to having your data as `numpy.ndarrays`. Check out the example below."
   ]
  },
  {
   "cell_type": "code",
   "execution_count": null,
   "metadata": {},
   "outputs": [],
   "source": [
    "a = [[1, 2, 3], [4, 5, 6], [7, 8, 9]]\n",
    "print(f\"a has is of type {type(a)}\")\n",
    "print(a)\n",
    "A = np.array(a)\n",
    "print(f\"While A is of type {type(A)}\")\n",
    "print(A)"
   ]
  },
  {
   "cell_type": "markdown",
   "metadata": {},
   "source": [
    "### Operation on multidimensional arrays in Numpy\n",
    "\n",
    "You can perform all possible operations with Numpy arrays:\n",
    "\n",
    "- `+`, `-`, elementwise multiplication `*`, `/`, `numpy.sqrt()`, `numpy.sin()`, `numpy.cos()`.\n",
    "- To get the transpose of a numpy ndarray `a` use `a.T`.\n",
    "- To get the dot-product between two numpy arrays use `numpy.dot(a, b)`.\n",
    "- For multipling two multidimensional arrays use `numpy.matmul(a, b)`.\n",
    "- To get the shape of a multidimensional array use `numpy.ndarray.shape`.\n",
    "- To sum over the rows/columns of a multidimensional array use `numpy.sum(a, dim)`."
   ]
  },
  {
   "cell_type": "code",
   "execution_count": null,
   "metadata": {},
   "outputs": [],
   "source": [
    "a = np.array([[1, 2, 3], [4, 5, 6], [7, 8, 9]])\n",
    "b = np.array([[10, 11, 12], [13, 14, 15], [16, 17, 18]])\n",
    "print(\"The + between a and b is\")\n",
    "c = a + b\n",
    "print(c)\n",
    "\n",
    "print(\"You can figure out the elementwise multiplication and division on your own :)\")\n",
    "\n",
    "print(\"The tranpose of a is\")\n",
    "print(a.T)\n",
    "\n",
    "print(\"The square root of a is\")\n",
    "c = np.sqrt(a)\n",
    "print(c)\n",
    "\n",
    "print(\"The elementwise sine function on a is\")\n",
    "c = np.sin(a)\n",
    "print(c)\n",
    "print(\"You can figure out the cosine on your own :)\")\n",
    "\n",
    "print(\"The matrix multiplication of a and b is\")\n",
    "c = np.matmul(a, b)\n",
    "print(c)\n",
    "\n",
    "print(f\"The shape of a is {a.shape}\")\n",
    "print(\"If we sum each column in a we get\")\n",
    "c = np.sum(a, axis=1)\n",
    "print(c)\n",
    "\n",
    "print(\"If we sum over each row in a we get\")\n",
    "c = np.sum(a, axis=0)\n",
    "print(c)\n",
    "\n",
    "print(\"If we sum over both the columns and rows\")\n",
    "c = np.sum(np.sum(a, axis=1), axis=0)\n",
    "print(c)\n",
    "\n",
    "print(\"The dot-product of a and b is\")\n",
    "c = np.dot(a, b)\n",
    "print(c)"
   ]
  },
  {
   "cell_type": "markdown",
   "metadata": {},
   "source": [
    "### Indexing in multidimensional arrays\n",
    "\n",
    "Indexing in Numpy's multidimensional starts from 0, which is different from Matlab where it starts from 1. Other useful insights about Numpy's indexing:\n",
    "\n",
    "- Negative indexing can be done to take the elements from the end of the array. \n",
    "- By providing `numpy.ndarray[:n]` we can index all elements up until the n-th element in the array.\n",
    "- By providing `numpy.ndarray[-n:]` we can index the last n elements in the array. "
   ]
  },
  {
   "cell_type": "code",
   "execution_count": null,
   "metadata": {},
   "outputs": [],
   "source": [
    "c = a.copy() # Taking the deep copy of the a numpy.ndarray\n",
    "print(\"The element with index 0,2 will take the value of 99.\")\n",
    "c[0, 2] = 99\n",
    "print(c)\n",
    "print(\"The last row and column wise element will take the value of 77.\")\n",
    "c[-1, -1] = 77\n",
    "print(c)\n",
    "print(\"The first 2 elements of the first row will be 0.\")\n",
    "c[0, :2] = 0\n",
    "print(c)\n",
    "print(\"The last two elements of the last row will be 44.\")\n",
    "c[-1, -2:] = 44\n",
    "print(c)"
   ]
  },
  {
   "cell_type": "markdown",
   "metadata": {},
   "source": [
    "## Advanced operations on Numpy arrays\n",
    "\n",
    "You can also perform a lot of advanced operations on numpy arrays, for example:\n",
    "\n",
    "- To obtain the inverse of array `a` use: `numpy.linalg.inv(a)`.\n",
    "- To obtain the determinant of array `a` use: `numpy.linalg.det(a)`.\n",
    "- To obtain the eigenvectors and eigenvalues of `a` use: `numpy.linalg.eig`."
   ]
  },
  {
   "cell_type": "code",
   "execution_count": null,
   "metadata": {},
   "outputs": [],
   "source": [
    "a = np.array([[1, 2, 3], [4, 5, 6], [7, 8, 9]])\n",
    "\n",
    "print(\"The inverse of a is:\")\n",
    "c = np.linalg.inv(a)\n",
    "print(c)\n",
    "\n",
    "print(\"The determinant of a is:\")\n",
    "c = np.linalg.det(a)\n",
    "print(c)\n",
    "\n",
    "print(\"The eigenvectors and eigenvalues of a are:\")\n",
    "eigen_val, eigen_vec = np.linalg.eig(a)\n",
    "print(eigen_val, eigen_vec)"
   ]
  },
  {
   "cell_type": "markdown",
   "metadata": {},
   "source": [
    "I would suggest you play a bit more with these things to fully understand them. Also, the [Numpy documentation](https://docs.scipy.org/doc/numpy/reference/arrays.indexing.html) is an awesome source so check it out."
   ]
  },
  {
   "cell_type": "markdown",
   "metadata": {},
   "source": [
    "### Logical operations on Numpy arrays\n",
    "\n",
    "All logical operations are also applicable on Numpy arrays:\n",
    "\n",
    "- equality `==`\n",
    "- indequality `!=`\n",
    "- bigger `>`\n",
    "- smaller `<`\n",
    "- bigger and equal `>=`\n",
    "- smaller and equal `<=`"
   ]
  },
  {
   "cell_type": "code",
   "execution_count": null,
   "metadata": {},
   "outputs": [],
   "source": [
    "c = (a == b)\n",
    "print(\"c contains True and False depending on the elementwise equality of the elements of a and b\")\n",
    "print(c)\n",
    "aa = a.copy()\n",
    "aa[0,2] = 77\n",
    "c = (aa >= b)\n",
    "print(\"c contains True and False depending on the elementwise >= of the elements of aa and b\")\n",
    "print(c)\n",
    "print(\"Play around with the other operators on your own :)\")"
   ]
  },
  {
   "cell_type": "markdown",
   "metadata": {},
   "source": [
    "### Working with images in Python\n",
    "\n",
    "- A lightweight, convinent library for basic image manipulation is [Pillow](https://pillow.readthedocs.io/en/stable/). Pillow provides easy to use methods for image loading, conversion, and image transformation. Therefore, the first step is to load `Pillow` and the `Pillow.Image` module. \n",
    "\n",
    "- When it comes to displaying images and all kinds of figures in Python, the go-to library is `matplotlib`. "
   ]
  },
  {
   "cell_type": "code",
   "execution_count": null,
   "metadata": {},
   "outputs": [],
   "source": [
    "import PIL\n",
    "from PIL import Image\n",
    "import matplotlib.pyplot as plt"
   ]
  },
  {
   "cell_type": "markdown",
   "metadata": {},
   "source": [
    "To load a PIL image and then display it:"
   ]
  },
  {
   "cell_type": "code",
   "execution_count": null,
   "metadata": {},
   "outputs": [],
   "source": [
    "image_pil = Image.open(\"../data/cats.jpg\")\n",
    "image_pil.show()"
   ]
  },
  {
   "cell_type": "markdown",
   "metadata": {},
   "source": [
    "However, I would recommend using `matplotlib` to display images. To use `matplotlib`, you should first transform the image to a `numpy.ndarray` and then display it with `matplotlib`. The conversion between `PIL` and `matplotlib` is seamless."
   ]
  },
  {
   "cell_type": "code",
   "execution_count": null,
   "metadata": {},
   "outputs": [],
   "source": [
    "image_np = np.asarray(image_pil)\n",
    "plt.imshow(image_np)"
   ]
  },
  {
   "cell_type": "markdown",
   "metadata": {},
   "source": [
    "Using `numpy`, `PIL` and `matplotlib` we can create, edit and display all kinds of images we want"
   ]
  },
  {
   "cell_type": "code",
   "execution_count": null,
   "metadata": {},
   "outputs": [],
   "source": [
    "# Create a random image\n",
    "random_image = np.random.randint(low=0, high=255, size=(224, 224))\n",
    "# Display the image\n",
    "plt.imshow(random_image, cmap=\"gray\")\n",
    "# Load the image again\n",
    "cats_image = Image.open(\"../data/cats.jpg\")\n",
    "# Resize the image\n",
    "cats_image = cats_image.resize(size=(112, 112))\n",
    "# Convert it to a grayscale image\n",
    "cats_image = cats_image.convert(mode=\"L\")\n",
    "# Convert it to a numpy array\n",
    "cats_image = np.asarray(cats_image)\n",
    "# Add the image to to the upper left corner of the random image\n",
    "random_image[:112, :112] = cats_image\n",
    "# Display the new image\n",
    "plt.imshow(random_image, cmap='gray')"
   ]
  },
  {
   "cell_type": "markdown",
   "metadata": {},
   "source": [
    "One thing to rememeber, once the image is converted to a `numpy.ndarray` all `numpy.ndarray` transformations are relevant. Back to `PIL` and `PIL.Image` related transformations."
   ]
  },
  {
   "cell_type": "code",
   "execution_count": null,
   "metadata": {},
   "outputs": [],
   "source": [
    "# Load the image again\n",
    "cats_image = Image.open(\"../data/cats.jpg\")\n",
    "# Rotate the image\n",
    "cats_image = cats_image.rotate(45)\n",
    "# Convert it to a numpy array\n",
    "cats_image = np.asarray(cats_image)\n",
    "# Display it\n",
    "plt.imshow(cats_image)"
   ]
  },
  {
   "cell_type": "markdown",
   "metadata": {},
   "source": [
    "Finally, go over the documentation of the `PIL.Image` [module](https://pillow.readthedocs.io/en/stable/reference/Image.html) for all related transformations such as crop, resize, rotate, histogram, filtering, etc."
   ]
  }
 ],
 "metadata": {
  "kernelspec": {
   "display_name": "Python 3",
   "language": "python",
   "name": "python3"
  },
  "language_info": {
   "codemirror_mode": {
    "name": "ipython",
    "version": 3
   },
   "file_extension": ".py",
   "mimetype": "text/x-python",
   "name": "python",
   "nbconvert_exporter": "python",
   "pygments_lexer": "ipython3",
   "version": "3.8.5"
  }
 },
 "nbformat": 4,
 "nbformat_minor": 2
}
